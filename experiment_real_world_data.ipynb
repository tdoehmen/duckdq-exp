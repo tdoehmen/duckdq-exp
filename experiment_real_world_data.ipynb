{
 "cells": [
  {
   "cell_type": "code",
   "execution_count": null,
   "metadata": {},
   "outputs": [],
   "source": [
    "import time\n",
    "import pandas as pd"
   ]
  },
  {
   "cell_type": "code",
   "execution_count": null,
   "metadata": {},
   "outputs": [],
   "source": [
    "nval = 5  #number of validation runs to build runtime average over\n",
    "sf = \"3M\"\n",
    "df = pd.read_csv(f\"../data/hotel_search_logs_{sf}_small.csv\")"
   ]
  },
  {
   "cell_type": "markdown",
   "metadata": {},
   "source": [
    "## duckdq"
   ]
  },
  {
   "cell_type": "code",
   "execution_count": null,
   "metadata": {},
   "outputs": [],
   "source": [
    "import duckdq"
   ]
  },
  {
   "cell_type": "code",
   "execution_count": null,
   "metadata": {
    "scrolled": true
   },
   "outputs": [],
   "source": [
    "runtimes = 0\n",
    "for i in range(nval):\n",
    "    start = time.time()\n",
    "    checkResult = duckdq.VerificationSuite() \\\n",
    "        .on_data(df) \\\n",
    "        .add_check(\n",
    "            duckdq.Check(duckdq.CheckLevel.EXCEPTION, \"Check Error\")\n",
    "              .is_complete(\"date_time\") \n",
    "              .is_complete(\"site_name\")  \n",
    "              .is_complete(\"posa_continent\") \n",
    "              .is_complete(\"user_location_country\")\n",
    "              .is_complete(\"user_location_city\")  \n",
    "              .is_unique(\"orig_destination_distance\")\n",
    "              .is_unique(\"user_id\")\n",
    "              .is_unique(\"is_mobile\") \n",
    "              .is_unique(\"is_package\") \n",
    "              .is_unique(\"channel\")).run()\n",
    "    end = time.time()\n",
    "    runtimes += end-start\n",
    "print(f\"DDQ (Validation, {sf} rows): {runtimes/nval}\")"
   ]
  },
  {
   "cell_type": "markdown",
   "metadata": {},
   "source": [
    "## great_expectations"
   ]
  },
  {
   "cell_type": "code",
   "execution_count": null,
   "metadata": {},
   "outputs": [],
   "source": [
    "import great_expectations as ge"
   ]
  },
  {
   "cell_type": "code",
   "execution_count": null,
   "metadata": {},
   "outputs": [],
   "source": [
    "runtimes = 0\n",
    "for i in range(nval):\n",
    "    start = time.time()\n",
    "    ge_df = ge.from_pandas(df)\n",
    "    ge_df.expect_column_values_to_not_be_null(\"date_time\")\n",
    "    ge_df.expect_column_values_to_not_be_null(\"site_name\")\n",
    "    ge_df.expect_column_values_to_not_be_null(\"posa_continent\")\n",
    "    ge_df.expect_column_values_to_not_be_null(\"user_location_country\")\n",
    "    ge_df.expect_column_values_to_not_be_null(\"user_location_city\")\n",
    "    ge_df.expect_column_values_to_be_unique(\"orig_destination_distance\")\n",
    "    ge_df.expect_column_values_to_be_unique(\"user_id\")\n",
    "    ge_df.expect_column_values_to_be_unique(\"is_mobile\")\n",
    "    ge_df.expect_column_values_to_be_unique(\"is_package\")\n",
    "    ge_df.expect_column_values_to_be_unique(\"channel\")\n",
    "    end = time.time()\n",
    "    runtimes += end-start\n",
    "print(f\"GE (Validation, {sf} rows): {runtimes/nval}\")"
   ]
  },
  {
   "cell_type": "markdown",
   "metadata": {},
   "source": [
    "## pydeequ"
   ]
  },
  {
   "cell_type": "code",
   "execution_count": null,
   "metadata": {},
   "outputs": [],
   "source": [
    "import findspark\n",
    "findspark.init()\n",
    "import pydeequ\n",
    "from pyspark.sql import SparkSession, Row\n",
    "from pydeequ.verification import VerificationSuite\n",
    "from pydeequ.checks import Check, CheckLevel"
   ]
  },
  {
   "cell_type": "code",
   "execution_count": null,
   "metadata": {},
   "outputs": [],
   "source": [
    "start = time.time()\n",
    "spark = (SparkSession\n",
    "    .builder\n",
    "    .config(\"spark.jars.packages\", pydeequ.deequ_maven_coord)\n",
    "    .config(\"spark.jars.excludes\", pydeequ.f2j_maven_coord)\n",
    "    .getOrCreate())\n",
    "end = time.time()\n",
    "print(f\"DQ (Startup): {end-start}\")"
   ]
  },
  {
   "cell_type": "code",
   "execution_count": null,
   "metadata": {},
   "outputs": [],
   "source": [
    "start = time.time()\n",
    "pd_df = spark.read.csv(f\"../data/hotel_search_logs_{sf}.csv\",header=True)\n",
    "pd_df.cache()\n",
    "pd_df.count()\n",
    "end = time.time()\n",
    "print(f\"DQ (Data Transfer, {sf} rows): {end-start}\")"
   ]
  },
  {
   "cell_type": "code",
   "execution_count": null,
   "metadata": {},
   "outputs": [],
   "source": [
    "runtimes = 0\n",
    "for i in range(nval):\n",
    "    start = time.time()\n",
    "    checkResult = VerificationSuite(spark) \\\n",
    "        .onData(pd_df) \\\n",
    "        .addCheck(Check(spark, CheckLevel.Error, \"Check Error\")\n",
    "              .isComplete(\"date_time\") \n",
    "              .isComplete(\"site_name\") \n",
    "              .isComplete(\"posa_continent\")\n",
    "              .isComplete(\"user_location_country\") \n",
    "              .isComplete(\"user_location_city\")\n",
    "              .isUnique(\"orig_destination_distance\") \n",
    "              .isUnique(\"user_id\") \n",
    "              .isUnique(\"is_mobile\") \n",
    "              .isUnique(\"is_package\") \n",
    "              .isUnique(\"channel\")).run()\n",
    "    end = time.time()\n",
    "    runtimes += end-start\n",
    "print(f\"DQ (Validation, {sf} rows): {runtimes/nval}\")"
   ]
  },
  {
   "cell_type": "markdown",
   "metadata": {},
   "source": [
    "## hooqu"
   ]
  },
  {
   "cell_type": "code",
   "execution_count": null,
   "metadata": {},
   "outputs": [],
   "source": [
    "from hooqu.checks import Check, CheckLevel, CheckStatus\n",
    "from hooqu.verification_suite import VerificationSuite\n",
    "from hooqu.constraints import ConstraintStatus"
   ]
  },
  {
   "cell_type": "code",
   "execution_count": null,
   "metadata": {},
   "outputs": [],
   "source": [
    "runtimes = 0\n",
    "for i in range(nval):\n",
    "    start = time.time()\n",
    "    verification_result = (\n",
    "          VerificationSuite()\n",
    "          .on_data(df)\n",
    "          .add_check(\n",
    "              Check(CheckLevel.ERROR, \"Basic Check\")\n",
    "              .is_complete(\"date_time\") \n",
    "              .is_complete(\"site_name\") \n",
    "              .is_complete(\"posa_continent\") \n",
    "              .is_complete(\"user_location_country\") \n",
    "              .is_complete(\"user_location_city\") \n",
    "              .is_unique(\"orig_destination_distance\") \n",
    "              .is_unique(\"user_id\") \n",
    "              .is_unique(\"is_mobile\") \n",
    "              .is_unique(\"is_package\") \n",
    "              .is_unique(\"channel\") \n",
    "          )\n",
    "          .run()\n",
    "    )\n",
    "    end = time.time()\n",
    "    runtimes += end-start\n",
    "print(f\"HQ (Validation, {sf} rows): {runtimes/nval}\")"
   ]
  },
  {
   "cell_type": "code",
   "execution_count": null,
   "metadata": {},
   "outputs": [],
   "source": []
  }
 ],
 "metadata": {
  "kernelspec": {
   "display_name": "Python 3",
   "language": "python",
   "name": "python3"
  },
  "language_info": {
   "codemirror_mode": {
    "name": "ipython",
    "version": 3
   },
   "file_extension": ".py",
   "mimetype": "text/x-python",
   "name": "python",
   "nbconvert_exporter": "python",
   "pygments_lexer": "ipython3",
   "version": "3.7.9"
  }
 },
 "nbformat": 4,
 "nbformat_minor": 4
}
